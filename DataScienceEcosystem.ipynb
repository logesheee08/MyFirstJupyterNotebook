{
 "cells": [
  {
   "cell_type": "markdown",
   "id": "2a7188ca-bd55-4987-8d39-5f0d3c930111",
   "metadata": {},
   "source": [
    "# Data Science Tools and Ecosystem"
   ]
  },
  {
   "cell_type": "markdown",
   "id": "a16f6317-cf11-46d4-a7e0-c9797a6bae65",
   "metadata": {},
   "source": [
    "In this notebook, Data Science Tools and Ecosystem are summarized."
   ]
  },
  {
   "cell_type": "markdown",
   "id": "41c86c22-5534-49aa-8546-1a704a30c480",
   "metadata": {},
   "source": [
    "<b> Objectives: <b>\n",
    "\n",
    "- List of Programs for Data Science\n",
    "- Commonly used libraries in Data Science\n",
    "- List of Tools used in Data science\n",
    "- Arihmetic Operations in Python"
   ]
  },
  {
   "cell_type": "markdown",
   "id": "0f9e6521-bff1-4969-80f2-17e4d426a12c",
   "metadata": {},
   "source": [
    "Some of the popular languages that Data Scientists use are:\n",
    "1. R\n",
    "2. Python\n",
    "3. Scala"
   ]
  },
  {
   "cell_type": "markdown",
   "id": "deaeb9c3-60ab-4738-9646-92876d1c2a2e",
   "metadata": {},
   "source": [
    "Some of the commonly used libraries used by Data Scientists include:\n",
    "\n",
    "- Numpy\n",
    "- Panda\n",
    "- Matplotlib"
   ]
  },
  {
   "cell_type": "markdown",
   "id": "162f6491-7744-4ec0-982f-0c09671831a9",
   "metadata": {},
   "source": [
    "\n",
    "|Data Science Tools |\n",
    "|-------------------|\n",
    "| Python |\n",
    "| R |\n",
    "| Scala |\n",
    "| SQL |\n",
    "| Apache Spark |\n",
    "| Jupyter Notebook |\n",
    "| Git |\n",
    "| IBM Watson Studio |"
   ]
  },
  {
   "cell_type": "markdown",
   "id": "11b70eda-dca8-4e34-a221-7953d34e298d",
   "metadata": {},
   "source": [
    "### Below are a few examples of evaluating arithmetic expressions in Python.\n"
   ]
  },
  {
   "cell_type": "code",
   "execution_count": 6,
   "id": "1decebee-1f24-449b-86f9-ac22c6201f8a",
   "metadata": {},
   "outputs": [
    {
     "data": {
      "text/plain": [
       "17"
      ]
     },
     "execution_count": 6,
     "metadata": {},
     "output_type": "execute_result"
    }
   ],
   "source": [
    "# This a simple arithmetic expression to mutiply then add integers\n",
    "(3*4)+5"
   ]
  },
  {
   "cell_type": "code",
   "execution_count": 7,
   "id": "072187f3-2d32-49e6-93a8-017ab22e0e69",
   "metadata": {},
   "outputs": [
    {
     "data": {
      "text/plain": [
       "33.333333333333336"
      ]
     },
     "execution_count": 7,
     "metadata": {},
     "output_type": "execute_result"
    }
   ],
   "source": [
    "# This will convert 200 minutes to hours by diving by 60\n",
    "200/6"
   ]
  },
  {
   "cell_type": "markdown",
   "id": "8d2630b4-e198-494a-952e-14b54267c34d",
   "metadata": {},
   "source": [
    "## Author\n",
    "Logesh"
   ]
  },
  {
   "cell_type": "code",
   "execution_count": null,
   "id": "4995e0c7-cac5-4891-91ce-4f2328b91d5a",
   "metadata": {},
   "outputs": [],
   "source": []
  }
 ],
 "metadata": {
  "kernelspec": {
   "display_name": "Python 3 (ipykernel)",
   "language": "python",
   "name": "python3"
  },
  "language_info": {
   "codemirror_mode": {
    "name": "ipython",
    "version": 3
   },
   "file_extension": ".py",
   "mimetype": "text/x-python",
   "name": "python",
   "nbconvert_exporter": "python",
   "pygments_lexer": "ipython3",
   "version": "3.12.8"
  }
 },
 "nbformat": 4,
 "nbformat_minor": 5
}
